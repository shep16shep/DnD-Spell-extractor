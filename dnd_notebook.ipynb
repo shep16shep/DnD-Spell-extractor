{
 "cells": [
  {
   "cell_type": "code",
   "execution_count": 57,
   "id": "ebdef116-06ed-4477-9003-c211876d28aa",
   "metadata": {
    "tags": []
   },
   "outputs": [],
   "source": [
    "import json\n",
    "import csv\n",
    "\n",
    "with open(r'D:\\uni\\23SoSe\\projects\\dnd-spell-extractor\\data\\spells.json', encoding=\"utf8\") as f:\n",
    "    content = f.read()\n",
    "    db = json.loads(content)\n",
    "    for spell in db:\n",
    "        entry = db[spell]\n",
    "        desc = entry[\"description\"]\n",
    "    "
   ]
  },
  {
   "cell_type": "code",
   "execution_count": 98,
   "id": "78de9604-c367-4288-8991-8e5163d54af7",
   "metadata": {
    "tags": []
   },
   "outputs": [],
   "source": [
    "f = open(r\"D:\\uni\\23SoSe\\projects\\dnd-spell-extractor\\spells_table.csv\", \"w\", encoding=\"utf-8\")\n",
    "for spell in db:\n",
    "    entry = db[spell]\n",
    "    desc=entry[\"description\"]\n",
    "    f.write(spell + \"\\t\" + desc + \"\\n\")\n",
    "f.close()"
   ]
  },
  {
   "cell_type": "code",
   "execution_count": null,
   "id": "5493c270-0c1e-4af9-8557-7c6dadc72740",
   "metadata": {
    "tags": []
   },
   "outputs": [
    {
     "name": "stderr",
     "output_type": "stream",
     "text": [
      "C:\\Users\\miyax\\AppData\\Local\\Programs\\Python\\Python310\\lib\\site-packages\\tqdm\\auto.py:21: TqdmWarning: IProgress not found. Please update jupyter and ipywidgets. See https://ipywidgets.readthedocs.io/en/stable/user_install.html\n",
      "  from .autonotebook import tqdm as notebook_tqdm\n"
     ]
    }
   ],
   "source": [
    "import flair\n",
    "\n",
    "from flair.data import Corpus\n",
    "from flair.datasets import CSVClassificationCorpus\n",
    "\n",
    "# this is the folder in which train, test and dev files reside\n",
    "data_folder = r'D:\\uni\\23SoSe\\projects\\dnd-spell-extractor\\data\\flair_data'\n",
    "\n",
    "# column format indicating which columns hold the text and label(s)\n",
    "column_name_map = {3: \"desc\", 2: \"dmg_type\"}\n",
    "\n",
    "# load corpus containing training, test and dev data and if CSV has a header, you can skip it\n",
    "corpus: Corpus = CSVClassificationCorpus(data_folder,\n",
    "                                         column_name_map,\n",
    "                                         skip_header=False,\n",
    "                                         delimiter='\\t',    # tab-separated files\n",
    ")"
   ]
  },
  {
   "cell_type": "code",
   "execution_count": null,
   "id": "91831e48-9806-4873-8611-a58636bd1796",
   "metadata": {},
   "outputs": [],
   "source": []
  }
 ],
 "metadata": {
  "kernelspec": {
   "display_name": "Python 3 (ipykernel)",
   "language": "python",
   "name": "python3"
  },
  "language_info": {
   "codemirror_mode": {
    "name": "ipython",
    "version": 3
   },
   "file_extension": ".py",
   "mimetype": "text/x-python",
   "name": "python",
   "nbconvert_exporter": "python",
   "pygments_lexer": "ipython3",
   "version": "3.10.11"
  }
 },
 "nbformat": 4,
 "nbformat_minor": 5
}
