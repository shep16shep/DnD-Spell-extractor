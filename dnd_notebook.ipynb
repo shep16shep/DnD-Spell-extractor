{
 "cells": [
  {
   "cell_type": "code",
   "execution_count": null,
   "id": "ebdef116-06ed-4477-9003-c211876d28aa",
   "metadata": {
    "tags": []
   },
   "outputs": [],
   "source": [
    "import json\n",
    "import csv\n",
    "\n",
    "with open(r'D:\\uni\\23SoSe\\projects\\dnd-spell-extractor\\data\\spells.json', encoding=\"utf8\") as f:\n",
    "    content = f.read()\n",
    "    db = json.loads(content)\n",
    "    for spell in db:\n",
    "        entry = db[spell]\n",
    "        desc = entry[\"description\"]\n",
    "    "
   ]
  },
  {
   "cell_type": "code",
   "execution_count": null,
   "id": "78de9604-c367-4288-8991-8e5163d54af7",
   "metadata": {
    "tags": []
   },
   "outputs": [],
   "source": [
    "f = open(r\"D:\\uni\\23SoSe\\projects\\dnd-spell-extractor\\spells_table.csv\", \"w\", encoding=\"utf-8\")\n",
    "for spell in db:\n",
    "    entry = db[spell]\n",
    "    desc=entry[\"description\"]\n",
    "    f.write(spell + \"\\t\" + desc + \"\\n\")\n",
    "f.close()"
   ]
  },
  {
   "cell_type": "code",
   "execution_count": null,
   "id": "91831e48-9806-4873-8611-a58636bd1796",
   "metadata": {
    "tags": []
   },
   "outputs": [],
   "source": [
    "pip install ipywidgets\n"
   ]
  },
  {
   "cell_type": "code",
   "execution_count": null,
   "id": "5493c270-0c1e-4af9-8557-7c6dadc72740",
   "metadata": {
    "tags": []
   },
   "outputs": [],
   "source": [
    "import flair\n",
    "\n",
    "from flair.data import Corpus\n",
    "from flair.datasets import CSVClassificationCorpus\n",
    "\n",
    "# this is the folder in which train, test and dev files reside\n",
    "data_folder = \"data/flair_data\"\n",
    "\n",
    "# column format indicating which columns hold the text and label(s)\n",
    "column_name_map = {2: \"text\", 1: \"label_damage\"}\n",
    "\n",
    "# load corpus containing training, test and dev data and if CSV has a header, you can skip it\n",
    "corpus: Corpus = CSVClassificationCorpus(data_folder,\n",
    "                                         column_name_map,\n",
    "                                         skip_header=False,\n",
    "                                         delimiter='\\t',    # tab-separated files\n",
    "                                         label_type=\"label_damage\",\n",
    "                                         encoding=\"utf-8\"\n",
    ")"
   ]
  },
  {
   "cell_type": "code",
   "execution_count": null,
   "id": "ddf2e294-9047-4004-9ca3-a729865a2fcb",
   "metadata": {
    "tags": []
   },
   "outputs": [],
   "source": [
    "from flair.embeddings import TransformerDocumentEmbeddings\n",
    "from flair.models import TextClassifier\n",
    "from flair.trainers import ModelTrainer\n",
    "\n",
    "# 3. create the label dictionary\n",
    "label_dict = corpus.make_label_dictionary(label_type=\"label_damage\")\n",
    "\n",
    "# 4. initialize transformer document embeddings (many models are available)\n",
    "document_embeddings = TransformerDocumentEmbeddings('distilbert-base-uncased', fine_tune=True)\n",
    "\n",
    "# 5. create the text classifier\n",
    "classifier = TextClassifier(document_embeddings, label_dictionary=label_dict, label_type=\"label_damage\")\n",
    "\n",
    "# 6. initialize trainer\n",
    "trainer = ModelTrainer(classifier, corpus)\n",
    "\n",
    "# 7. run training with fine-tuning\n",
    "trainer.train('resources/damage_model',\n",
    "                  max_epochs=10,\n",
    "                  )"
   ]
  },
  {
   "cell_type": "code",
   "execution_count": null,
   "id": "8df00d78-1e0c-4a07-a16e-a22b3a7ce7bb",
   "metadata": {
    "tags": []
   },
   "outputs": [],
   "source": []
  },
  {
   "cell_type": "code",
   "execution_count": null,
   "id": "b0fd38b9-42e8-4e68-8451-be4c156e229f",
   "metadata": {},
   "outputs": [],
   "source": []
  }
 ],
 "metadata": {
  "kernelspec": {
   "display_name": "Python 3 (ipykernel)",
   "language": "python",
   "name": "python3"
  },
  "language_info": {
   "codemirror_mode": {
    "name": "ipython",
    "version": 3
   },
   "file_extension": ".py",
   "mimetype": "text/x-python",
   "name": "python",
   "nbconvert_exporter": "python",
   "pygments_lexer": "ipython3",
   "version": "3.10.11"
  }
 },
 "nbformat": 4,
 "nbformat_minor": 5
}
