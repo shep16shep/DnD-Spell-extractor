{
 "cells": [
  {
   "cell_type": "code",
   "execution_count": 57,
   "id": "ebdef116-06ed-4477-9003-c211876d28aa",
   "metadata": {
    "tags": []
   },
   "outputs": [],
   "source": [
    "import json\n",
    "import csv\n",
    "\n",
    "with open(r'D:\\uni\\23SoSe\\projects\\dnd-spell-extractor\\data\\spells.json', encoding=\"utf8\") as f:\n",
    "    content = f.read()\n",
    "    db = json.loads(content)\n",
    "    for spell in db:\n",
    "        entry = db[spell]\n",
    "        desc = entry[\"description\"]\n",
    "    "
   ]
  },
  {
   "cell_type": "code",
   "execution_count": 98,
   "id": "78de9604-c367-4288-8991-8e5163d54af7",
   "metadata": {
    "tags": []
   },
   "outputs": [],
   "source": [
    "f = open(r\"D:\\uni\\23SoSe\\projects\\dnd-spell-extractor\\spells_table.csv\", \"w\", encoding=\"utf-8\")\n",
    "for spell in db:\n",
    "    entry = db[spell]\n",
    "    desc=entry[\"description\"]\n",
    "    f.write(spell + \"\\t\" + desc + \"\\n\")\n",
    "f.close()"
   ]
  },
  {
   "cell_type": "code",
   "execution_count": null,
   "id": "5493c270-0c1e-4af9-8557-7c6dadc72740",
   "metadata": {
    "tags": []
   },
   "outputs": [
    {
     "name": "stderr",
     "output_type": "stream",
     "text": [
      "C:\\Users\\miyax\\AppData\\Local\\Programs\\Python\\Python310\\lib\\site-packages\\tqdm\\auto.py:21: TqdmWarning: IProgress not found. Please update jupyter and ipywidgets. See https://ipywidgets.readthedocs.io/en/stable/user_install.html\n",
      "  from .autonotebook import tqdm as notebook_tqdm\n"
     ]
    }
   ],
   "source": [
    "import flair\n",
    "\n",
    "from flair.data import Corpus\n",
    "from flair.datasets import CSVClassificationCorpus\n",
    "\n",
    "# this is the folder in which train, test and dev files reside\n",
    "data_folder = r'D:\\uni\\23SoSe\\projects\\dnd-spell-extractor\\data\\flair_data'\n",
    "\n",
    "# column format indicating which columns hold the text and label(s)\n",
    "column_name_map = {3: \"desc\", 2: \"dmg_type\"}\n",
    "\n",
    "# load corpus containing training, test and dev data and if CSV has a header, you can skip it\n",
    "corpus: Corpus = CSVClassificationCorpus(data_folder,\n",
    "                                         column_name_map,\n",
    "                                         skip_header=False,\n",
    "                                         delimiter='\\t',    # tab-separated files\n",
    ")"
   ]
  },
  {
   "cell_type": "code",
   "execution_count": 1,
   "id": "91831e48-9806-4873-8611-a58636bd1796",
   "metadata": {
    "tags": []
   },
   "outputs": [
    {
     "name": "stdout",
     "output_type": "stream",
     "text": [
      "Collecting ipywidgets\n",
      "  Downloading ipywidgets-8.0.7-py3-none-any.whl (138 kB)\n",
      "     ---------------------------------------- 0.0/138.3 kB ? eta -:--:--\n",
      "     --------------------------------- ---- 122.9/138.3 kB 3.6 MB/s eta 0:00:01\n",
      "     -------------------------------------- 138.3/138.3 kB 2.0 MB/s eta 0:00:00\n",
      "Requirement already satisfied: traitlets>=4.3.1 in c:\\users\\isabe\\appdata\\local\\programs\\python\\python310\\lib\\site-packages (from ipywidgets) (5.9.0)\n",
      "Collecting jupyterlab-widgets~=3.0.7\n",
      "  Downloading jupyterlab_widgets-3.0.8-py3-none-any.whl (214 kB)\n",
      "     ---------------------------------------- 0.0/215.0 kB ? eta -:--:--\n",
      "     -------------------------------------- 215.0/215.0 kB 6.6 MB/s eta 0:00:00\n",
      "Collecting widgetsnbextension~=4.0.7\n",
      "  Downloading widgetsnbextension-4.0.8-py3-none-any.whl (2.3 MB)\n",
      "     ---------------------------------------- 0.0/2.3 MB ? eta -:--:--\n",
      "     --------- ------------------------------ 0.5/2.3 MB 11.1 MB/s eta 0:00:01\n",
      "     -------------- ------------------------- 0.8/2.3 MB 10.6 MB/s eta 0:00:01\n",
      "     ------------------------- -------------- 1.5/2.3 MB 10.4 MB/s eta 0:00:01\n",
      "     ------------------------------------ --- 2.1/2.3 MB 12.0 MB/s eta 0:00:01\n",
      "     ---------------------------------------- 2.3/2.3 MB 10.4 MB/s eta 0:00:00\n",
      "Requirement already satisfied: ipython>=6.1.0 in c:\\users\\isabe\\appdata\\local\\programs\\python\\python310\\lib\\site-packages (from ipywidgets) (8.12.0)\n",
      "Requirement already satisfied: ipykernel>=4.5.1 in c:\\users\\isabe\\appdata\\local\\programs\\python\\python310\\lib\\site-packages (from ipywidgets) (6.22.0)\n",
      "Requirement already satisfied: jupyter-core!=5.0.*,>=4.12 in c:\\users\\isabe\\appdata\\local\\programs\\python\\python310\\lib\\site-packages (from ipykernel>=4.5.1->ipywidgets) (5.3.0)\n",
      "Requirement already satisfied: pyzmq>=20 in c:\\users\\isabe\\appdata\\local\\programs\\python\\python310\\lib\\site-packages (from ipykernel>=4.5.1->ipywidgets) (25.0.2)\n",
      "Requirement already satisfied: matplotlib-inline>=0.1 in c:\\users\\isabe\\appdata\\local\\programs\\python\\python310\\lib\\site-packages (from ipykernel>=4.5.1->ipywidgets) (0.1.6)\n",
      "Requirement already satisfied: comm>=0.1.1 in c:\\users\\isabe\\appdata\\local\\programs\\python\\python310\\lib\\site-packages (from ipykernel>=4.5.1->ipywidgets) (0.1.3)\n",
      "Requirement already satisfied: psutil in c:\\users\\isabe\\appdata\\local\\programs\\python\\python310\\lib\\site-packages (from ipykernel>=4.5.1->ipywidgets) (5.9.5)\n",
      "Requirement already satisfied: debugpy>=1.6.5 in c:\\users\\isabe\\appdata\\local\\programs\\python\\python310\\lib\\site-packages (from ipykernel>=4.5.1->ipywidgets) (1.6.7)\n",
      "Requirement already satisfied: packaging in c:\\users\\isabe\\appdata\\local\\programs\\python\\python310\\lib\\site-packages (from ipykernel>=4.5.1->ipywidgets) (23.1)\n",
      "Requirement already satisfied: jupyter-client>=6.1.12 in c:\\users\\isabe\\appdata\\local\\programs\\python\\python310\\lib\\site-packages (from ipykernel>=4.5.1->ipywidgets) (8.2.0)\n",
      "Requirement already satisfied: tornado>=6.1 in c:\\users\\isabe\\appdata\\local\\programs\\python\\python310\\lib\\site-packages (from ipykernel>=4.5.1->ipywidgets) (6.3)\n",
      "Requirement already satisfied: nest-asyncio in c:\\users\\isabe\\appdata\\local\\programs\\python\\python310\\lib\\site-packages (from ipykernel>=4.5.1->ipywidgets) (1.5.6)\n",
      "Requirement already satisfied: pickleshare in c:\\users\\isabe\\appdata\\local\\programs\\python\\python310\\lib\\site-packages (from ipython>=6.1.0->ipywidgets) (0.7.5)\n",
      "Requirement already satisfied: colorama in c:\\users\\isabe\\appdata\\local\\programs\\python\\python310\\lib\\site-packages (from ipython>=6.1.0->ipywidgets) (0.4.6)\n",
      "Requirement already satisfied: stack-data in c:\\users\\isabe\\appdata\\local\\programs\\python\\python310\\lib\\site-packages (from ipython>=6.1.0->ipywidgets) (0.6.2)\n",
      "Requirement already satisfied: pygments>=2.4.0 in c:\\users\\isabe\\appdata\\local\\programs\\python\\python310\\lib\\site-packages (from ipython>=6.1.0->ipywidgets) (2.15.1)\n",
      "Requirement already satisfied: backcall in c:\\users\\isabe\\appdata\\local\\programs\\python\\python310\\lib\\site-packages (from ipython>=6.1.0->ipywidgets) (0.2.0)\n",
      "Requirement already satisfied: prompt-toolkit!=3.0.37,<3.1.0,>=3.0.30 in c:\\users\\isabe\\appdata\\local\\programs\\python\\python310\\lib\\site-packages (from ipython>=6.1.0->ipywidgets) (3.0.38)\n",
      "Requirement already satisfied: jedi>=0.16 in c:\\users\\isabe\\appdata\\local\\programs\\python\\python310\\lib\\site-packages (from ipython>=6.1.0->ipywidgets) (0.18.2)\n",
      "Requirement already satisfied: decorator in c:\\users\\isabe\\appdata\\local\\programs\\python\\python310\\lib\\site-packages (from ipython>=6.1.0->ipywidgets) (5.1.1)\n",
      "Requirement already satisfied: parso<0.9.0,>=0.8.0 in c:\\users\\isabe\\appdata\\local\\programs\\python\\python310\\lib\\site-packages (from jedi>=0.16->ipython>=6.1.0->ipywidgets) (0.8.3)\n",
      "Requirement already satisfied: python-dateutil>=2.8.2 in c:\\users\\isabe\\appdata\\local\\programs\\python\\python310\\lib\\site-packages (from jupyter-client>=6.1.12->ipykernel>=4.5.1->ipywidgets) (2.8.2)\n",
      "Requirement already satisfied: platformdirs>=2.5 in c:\\users\\isabe\\appdata\\local\\programs\\python\\python310\\lib\\site-packages (from jupyter-core!=5.0.*,>=4.12->ipykernel>=4.5.1->ipywidgets) (3.2.0)\n",
      "Requirement already satisfied: pywin32>=300 in c:\\users\\isabe\\appdata\\local\\programs\\python\\python310\\lib\\site-packages (from jupyter-core!=5.0.*,>=4.12->ipykernel>=4.5.1->ipywidgets) (306)\n",
      "Requirement already satisfied: wcwidth in c:\\users\\isabe\\appdata\\local\\programs\\python\\python310\\lib\\site-packages (from prompt-toolkit!=3.0.37,<3.1.0,>=3.0.30->ipython>=6.1.0->ipywidgets) (0.2.6)\n",
      "Requirement already satisfied: asttokens>=2.1.0 in c:\\users\\isabe\\appdata\\local\\programs\\python\\python310\\lib\\site-packages (from stack-data->ipython>=6.1.0->ipywidgets) (2.2.1)\n",
      "Requirement already satisfied: pure-eval in c:\\users\\isabe\\appdata\\local\\programs\\python\\python310\\lib\\site-packages (from stack-data->ipython>=6.1.0->ipywidgets) (0.2.2)\n",
      "Requirement already satisfied: executing>=1.2.0 in c:\\users\\isabe\\appdata\\local\\programs\\python\\python310\\lib\\site-packages (from stack-data->ipython>=6.1.0->ipywidgets) (1.2.0)\n",
      "Requirement already satisfied: six in c:\\users\\isabe\\appdata\\local\\programs\\python\\python310\\lib\\site-packages (from asttokens>=2.1.0->stack-data->ipython>=6.1.0->ipywidgets) (1.16.0)\n",
      "Installing collected packages: widgetsnbextension, jupyterlab-widgets, ipywidgets\n",
      "Successfully installed ipywidgets-8.0.7 jupyterlab-widgets-3.0.8 widgetsnbextension-4.0.8\n",
      "Note: you may need to restart the kernel to use updated packages.\n"
     ]
    },
    {
     "name": "stderr",
     "output_type": "stream",
     "text": [
      "\n",
      "[notice] A new release of pip is available: 23.0.1 -> 23.1.2\n",
      "[notice] To update, run: python.exe -m pip install --upgrade pip\n"
     ]
    }
   ],
   "source": [
    "pip install ipywidgets\n"
   ]
  },
  {
   "cell_type": "code",
   "execution_count": null,
   "id": "8df00d78-1e0c-4a07-a16e-a22b3a7ce7bb",
   "metadata": {},
   "outputs": [],
   "source": []
  }
 ],
 "metadata": {
  "kernelspec": {
   "display_name": "Python 3 (ipykernel)",
   "language": "python",
   "name": "python3"
  },
  "language_info": {
   "codemirror_mode": {
    "name": "ipython",
    "version": 3
   },
   "file_extension": ".py",
   "mimetype": "text/x-python",
   "name": "python",
   "nbconvert_exporter": "python",
   "pygments_lexer": "ipython3",
   "version": "3.10.11"
  }
 },
 "nbformat": 4,
 "nbformat_minor": 5
}
